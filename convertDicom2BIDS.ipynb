{
 "cells": [
  {
   "cell_type": "code",
   "execution_count": 2,
   "metadata": {},
   "outputs": [],
   "source": [
    "import dicom2nifti\n",
    "import os"
   ]
  },
  {
   "cell_type": "code",
   "execution_count": 13,
   "metadata": {},
   "outputs": [
    {
     "name": "stdout",
     "output_type": "stream",
     "text": [
      "Source dir is True:  /raid/users/usman/unomic_data/00_origData/01_N/01_N_DCM\n",
      "Destination dir is True:  /raid/users/usman/unomic_data/00_origData/01_N/01_N_Nifti\n"
     ]
    }
   ],
   "source": [
    "rootDir = \"/raid/users/usman/unomic_data/00_origData/01_N\"\n",
    "dicom_directory = os.path.join(rootDir, '01_N_DCM')\n",
    "# print(dicom_directory)\n",
    "# print(os.path.isdir(dicom_directory))\n",
    "\n",
    "if os.path.isdir(dicom_directory):\n",
    "    print('Source dir is True: ', dicom_directory)\n",
    "\n",
    "output_folder = os.path.join(rootDir, '01_N_Nifti')\n",
    "\n",
    "if os.path.isdir(output_folder):\n",
    "    print('Destination dir is True: ', output_folder)\n"
   ]
  },
  {
   "cell_type": "code",
   "execution_count": null,
   "metadata": {},
   "outputs": [],
   "source": [
    "import dicom2nifti\n",
    "import dicom2nifti.settings as settings\n",
    "\n",
    "settings.disable_validate_orthogonal()\n",
    "settings.enable_resampling()\n",
    "settings.set_resample_spline_interpolation_order(1)\n",
    "settings.set_resample_padding(-1000)\n",
    "\n",
    "dicom2nifti.convert_directory(dicom_directory, output_folder)\n"
   ]
  },
  {
   "cell_type": "code",
   "execution_count": null,
   "metadata": {},
   "outputs": [],
   "source": [
    "dicom2nifti.convert_directory(\n",
    "    dicom_directory, output_folder, compression=False, reorient=True)\n"
   ]
  },
  {
   "cell_type": "markdown",
   "metadata": {},
   "source": [
    "# For Data Conversion DCM to Nifti file system"
   ]
  },
  {
   "cell_type": "code",
   "execution_count": null,
   "metadata": {},
   "outputs": [],
   "source": [
    "\n",
    "\n",
    "# https: // github.com/rordenlab/dcm2niix\n",
    "# dcm2niix -z n -v y -s n -o /raid/users/usman/unomic_data/00_origData/01_N/01_N_Nifti/ -i /raid/users/usman/unomic_data/00_origData/01_N/01_N_DCM/"
   ]
  }
 ],
 "metadata": {
  "interpreter": {
   "hash": "e57ab69e6829d63c2e6d9c30a2bad3809c745f437c9835b85d645caff9f885f2"
  },
  "kernelspec": {
   "display_name": "Python 3.8.0 ('d2b')",
   "language": "python",
   "name": "python3"
  },
  "language_info": {
   "codemirror_mode": {
    "name": "ipython",
    "version": 3
   },
   "file_extension": ".py",
   "mimetype": "text/x-python",
   "name": "python",
   "nbconvert_exporter": "python",
   "pygments_lexer": "ipython3",
   "version": "3.10.4"
  },
  "orig_nbformat": 4
 },
 "nbformat": 4,
 "nbformat_minor": 2
}
